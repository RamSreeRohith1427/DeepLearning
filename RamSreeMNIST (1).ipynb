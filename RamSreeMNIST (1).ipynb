{
  "nbformat": 4,
  "nbformat_minor": 0,
  "metadata": {
    "colab": {
      "provenance": []
    },
    "kernelspec": {
      "name": "python3",
      "display_name": "Python 3"
    },
    "language_info": {
      "name": "python"
    }
  },
  "cells": [
    {
      "cell_type": "code",
      "source": [
        "import numpy as np\n",
        "import tensorflow as tf\n",
        "from tensorflow import keras\n",
        "from tensorflow.keras import layers\n",
        "import matplotlib.pyplot as plt\n",
        "from keras.datasets import  mnist\n",
        "class MNISTclassifier:\n",
        "  def __init__(self, data):\n",
        "    (self.XTrain, self.YTrain), (self.XTest, self.YTest) = data.load_data()\n",
        "\n",
        "  def CreateModel(self):\n",
        "    model=keras.Sequential()\n",
        "    model.add(layers.Flatten(input_shape=(28,28)))\n",
        "    model.add(layers.Dense(128,activation='relu'))\n",
        "    model.add(layers.Dense(10))\n",
        "    self.model = model\n",
        "  \n",
        "  def TrainModel(self):\n",
        "    self.model.compile(loss=keras.losses.SparseCategoricalCrossentropy(from_logits=True),optimizer='adam',metrics=['accuracy'])\n",
        "    self.output = self.model.fit(self.XTrain,self.YTrain,epochs=10)\n",
        "  \n",
        "  def predictModel(self):\n",
        "    return self.model.evaluate(self.XTest,self.YTest)\n",
        "\n",
        "  def accuracyAndLossPlots(self):\n",
        "    plt.plot(np.arange(len(self.output.history[\"accuracy\"])),self.output.history[\"accuracy\"], label = \"Accuracy\")\n",
        "    plt.plot(np.arange(len(self.output.history[\"accuracy\"])),self.output.history[\"loss\"], label = \"Loss\")\n",
        "    #plt.label()\n",
        "    plt.show()\n",
        "\n",
        "if __name__ == \"__main__\":\n",
        "  object_ = MNISTclassifier(mnist)\n",
        "  object_.CreateModel()\n",
        "  object_.TrainModel()\n",
        "  object_.accuracyAndLossPlots()\n",
        "  output = object_.predictModel()\n",
        "  print(\"The output accuracy of the model is:\", output[1]*100)\n",
        "  print(\"The output loss of the model is:\", output[0])"
      ],
      "metadata": {
        "colab": {
          "base_uri": "https://localhost:8080/",
          "height": 664
        },
        "id": "MvvVaeONVvCW",
        "outputId": "ffcaead5-6309-4f4e-cd17-fd2a7d2a96ac"
      },
      "execution_count": 4,
      "outputs": [
        {
          "output_type": "stream",
          "name": "stdout",
          "text": [
            "Epoch 1/10\n",
            "1875/1875 [==============================] - 8s 4ms/step - loss: 2.5104 - accuracy: 0.8576\n",
            "Epoch 2/10\n",
            "1875/1875 [==============================] - 6s 3ms/step - loss: 0.3765 - accuracy: 0.9060\n",
            "Epoch 3/10\n",
            "1875/1875 [==============================] - 8s 4ms/step - loss: 0.2999 - accuracy: 0.9236\n",
            "Epoch 4/10\n",
            "1875/1875 [==============================] - 6s 3ms/step - loss: 0.2621 - accuracy: 0.9330\n",
            "Epoch 5/10\n",
            "1875/1875 [==============================] - 7s 4ms/step - loss: 0.2331 - accuracy: 0.9415\n",
            "Epoch 6/10\n",
            "1875/1875 [==============================] - 6s 3ms/step - loss: 0.2159 - accuracy: 0.9450\n",
            "Epoch 7/10\n",
            "1875/1875 [==============================] - 8s 4ms/step - loss: 0.2135 - accuracy: 0.9482\n",
            "Epoch 8/10\n",
            "1875/1875 [==============================] - 8s 4ms/step - loss: 0.1969 - accuracy: 0.9499\n",
            "Epoch 9/10\n",
            "1875/1875 [==============================] - 7s 4ms/step - loss: 0.1913 - accuracy: 0.9513\n",
            "Epoch 10/10\n",
            "1875/1875 [==============================] - 8s 4ms/step - loss: 0.1822 - accuracy: 0.9538\n"
          ]
        },
        {
          "output_type": "display_data",
          "data": {
            "text/plain": [
              "<Figure size 432x288 with 1 Axes>"
            ],
            "image/png": "[encoded data removed]"
          },
          "metadata": {
            "needs_background": "light"
          }
        },
        {
          "output_type": "stream",
          "name": "stdout",
          "text": [
            "313/313 [==============================] - 1s 2ms/step - loss: 0.2968 - accuracy: 0.9460\n",
            "The output accuracy of the model is: 94.59999799728394\n",
            "The output loss of the model is: 0.29679232835769653\n"
          ]
        }
      ]
    },
    {
      "cell_type": "code",
      "source": [
        "object_.output.history"
      ],
      "metadata": {
        "colab": {
          "base_uri": "https://localhost:8080/"
        },
        "id": "nnkNeutvXfvi",
        "outputId": "6a722fe4-b726-4d25-904b-1e039b6b85e0"
      },
      "execution_count": 3,
      "outputs": [
        {
          "output_type": "execute_result",
          "data": {
            "text/plain": [
              "{'loss': [2.4862661361694336,\n",
              "  0.3824194073677063,\n",
              "  0.29441380500793457,\n",
              "  0.24721944332122803,\n",
              "  0.22735369205474854,\n",
              "  0.21831394731998444,\n",
              "  0.20208264887332916,\n",
              "  0.1943918615579605,\n",
              "  0.1884813904762268,\n",
              "  0.1729045957326889],\n",
              " 'accuracy': [0.8586000204086304,\n",
              "  0.9094333052635193,\n",
              "  0.9269333481788635,\n",
              "  0.9380333423614502,\n",
              "  0.9420166611671448,\n",
              "  0.9450500011444092,\n",
              "  0.947950005531311,\n",
              "  0.95128333568573,\n",
              "  0.9532166719436646,\n",
              "  0.9557499885559082]}"
            ]
          },
          "metadata": {},
          "execution_count": 3
        }
      ]
    },
    {
      "cell_type": "code",
      "source": [],
      "metadata": {
        "id": "11EWTJYlZXCp"
      },
      "execution_count": 3,
      "outputs": []
    }
  ]
}